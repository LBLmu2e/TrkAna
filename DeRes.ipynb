{
 "cells": [
  {
   "cell_type": "code",
   "execution_count": 1,
   "id": "85038e28-71c6-4513-8663-13a1ccc9d233",
   "metadata": {},
   "outputs": [
    {
     "name": "stdout",
     "output_type": "stream",
     "text": [
      "adding path /home/online1/brownd/mu2e/pyana/TrkAna\n",
      "adding path /home/online1/brownd/mu2e/pyana/RefAna\n",
      "adding path /home/online1/brownd/mu2e/pyana/awkward-behaviors\n",
      "['/home/online1/brownd/miniconda3/envs/RefAna/lib/python313.zip', '/home/online1/brownd/miniconda3/envs/RefAna/lib/python3.13', '/home/online1/brownd/miniconda3/envs/RefAna/lib/python3.13/lib-dynload', '', '/home/online1/brownd/miniconda3/envs/RefAna/lib/python3.13/site-packages', '/home/online1/brownd/mu2e/pyana/TrkAna', '/home/online1/brownd/mu2e/pyana/RefAna', '/home/online1/brownd/mu2e/pyana/awkward-behaviors']\n"
     ]
    }
   ],
   "source": [
    "import sys\n",
    "extra_paths = [\"/home/online1/brownd/mu2e/pyana/TrkAna\",\"/home/online1/brownd/mu2e/pyana/RefAna\",\"/home/online1/brownd/mu2e/pyana/awkward-behaviors\"]\n",
    "for extra_path in extra_paths:\n",
    "    print(\"adding path\",extra_path)\n",
    "    if extra_path not in sys.path:\n",
    "        sys.path.append(extra_path)\n",
    "print(sys.path)"
   ]
  },
  {
   "cell_type": "code",
   "execution_count": 2,
   "id": "ba689833-0d18-48f2-970e-bc53aac88e60",
   "metadata": {},
   "outputs": [],
   "source": [
    "import DeRes\n",
    "import SurfaceIds"
   ]
  },
  {
   "cell_type": "code",
   "execution_count": 3,
   "id": "3bb4289e-10b2-4a70-8a0c-8ece4372d5eb",
   "metadata": {},
   "outputs": [],
   "source": [
    "#file = [\"/data/HD6/users/brownd/ntp.mu2e.CeEndpointOnSpillTriggered.MDC2020aq_best_v1_3_debug_mc.root\"]\n",
    "#file = [\"/data/HD6/users/brownd/ntp.mu2e.CeEndpointOnSpillTriggered.MDC2020aq_best_v1_3_spack.root\" ]\n",
    "#file=[\"/data/HD6/users/brownd/ntp.mu2e.CeEndpointOnSpillTriggered.MDC2020aq_best_v1_3_spack_nofilter.root\"]\n",
    "#file=[\"/data/HD6/users/brownd/ntp.mu2e.CeEndpointOnSpillTriggered.MDC2020aq_best_v1_3_test.root\"]\n",
    "#file = [\"/data/HD6/users/brownd/ENDeCalibOnSpill.root\"]\n",
    "#file = [\"/data/HD6/users/brownd/ENDeCalibOnSpill_test.root\"]\n",
    "file = [\"/data/HD6/users/brownd/EN_CRY_DeCalib.root\"]\n",
    "#file = [\"/data/HD6/users/brownd/EN_CeEndpoint_DeCalib.root\"]"
   ]
  },
  {
   "cell_type": "code",
   "execution_count": 4,
   "id": "44c1c571-4143-45f8-97e7-ae19b1f45a12",
   "metadata": {},
   "outputs": [],
   "source": [
    "momrange=[60,150]\n",
    "costrange = [0.5,0.8]"
   ]
  },
  {
   "cell_type": "code",
   "execution_count": 5,
   "id": "5f18b830-75e4-4a53-8950-f8273384fe8d",
   "metadata": {},
   "outputs": [],
   "source": [
    "#import ShowTree\n",
    "#ShowTree.Branches(file[0]+\":EventNtuple/ntuple\")"
   ]
  },
  {
   "cell_type": "code",
   "execution_count": 6,
   "id": "68e2ce92-286b-4e04-b605-5bfa7bdd7399",
   "metadata": {},
   "outputs": [],
   "source": [
    "de = DeRes.DeRes(momrange,costrange,20,1.0e-6,0.2)"
   ]
  },
  {
   "cell_type": "code",
   "execution_count": null,
   "id": "ebad3f86-94eb-47c4-9881-ce8dd9fe1d2a",
   "metadata": {},
   "outputs": [
    {
     "name": "stdout",
     "output_type": "stream",
     "text": [
      "Processing batch  0 1 2 3 4 5 6 7 8 9 Found 1 Instances of missing intersections in 741 tracks\n",
      "Missing intersection: TrueFalseTrue eid 1202:4678:408721\n",
      "10 11 Found 1 Instances of missing intersections in 729 tracks\n",
      "Missing intersection: TrueFalseTrue eid 1202:81912:239990\n",
      "12 13 Found 2 Instances of missing intersections in 682 tracks\n",
      "Missing intersection: TrueTrueFalse eid 1202:218:102414\n",
      "Missing intersection: TrueTrueFalse eid 1202:218:359559\n",
      "14 15 "
     ]
    }
   ],
   "source": [
    "import numpy as np\n",
    "np.set_printoptions(precision=6)\n",
    "de.Loop(file)"
   ]
  },
  {
   "cell_type": "code",
   "execution_count": null,
   "id": "29b43955-f73f-46cc-b124-9f43d5dad286",
   "metadata": {},
   "outputs": [],
   "source": [
    "de.PlotLegacy()"
   ]
  },
  {
   "cell_type": "code",
   "execution_count": null,
   "id": "b094f8fd-7564-415c-a9f8-bb71b5f3e40e",
   "metadata": {},
   "outputs": [],
   "source": [
    "#de.PlotQuality()"
   ]
  },
  {
   "cell_type": "code",
   "execution_count": null,
   "id": "c167b351-cbb5-4085-933f-2715f14d03c2",
   "metadata": {},
   "outputs": [],
   "source": [
    "de.PlotMaterial()"
   ]
  },
  {
   "cell_type": "code",
   "execution_count": null,
   "id": "4533aaba-a7ed-4a4d-bd36-11b41e641598",
   "metadata": {},
   "outputs": [],
   "source": [
    "#de.PlotTarget()"
   ]
  },
  {
   "cell_type": "code",
   "execution_count": null,
   "id": "37ff6471-2229-4a9c-8220-d091884c849a",
   "metadata": {},
   "outputs": [],
   "source": [
    "#de.PlotTrackerMomentum()"
   ]
  }
 ],
 "metadata": {
  "kernelspec": {
   "display_name": "Python 3 (ipykernel)",
   "language": "python",
   "name": "python3"
  },
  "language_info": {
   "codemirror_mode": {
    "name": "ipython",
    "version": 3
   },
   "file_extension": ".py",
   "mimetype": "text/x-python",
   "name": "python",
   "nbconvert_exporter": "python",
   "pygments_lexer": "ipython3",
   "version": "3.13.1"
  }
 },
 "nbformat": 4,
 "nbformat_minor": 5
}
